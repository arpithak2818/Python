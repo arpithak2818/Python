{
 "cells": [
  {
   "cell_type": "markdown",
   "metadata": {},
   "source": [
    "#Task 11.1"
   ]
  },
  {
   "cell_type": "code",
   "execution_count": 1,
   "metadata": {},
   "outputs": [],
   "source": [
    "#Explain return keyword with example"
   ]
  },
  {
   "cell_type": "code",
   "execution_count": 2,
   "metadata": {},
   "outputs": [],
   "source": [
    "#A return statement is used to end the execution of the function call and result to the caller.The statement after the return statements are not executed.If the return statement is withuout any expression,then the special value none is returned.\n",
    "\n",
    "#Return statement cannot be used outside the function."
   ]
  },
  {
   "cell_type": "code",
   "execution_count": 3,
   "metadata": {},
   "outputs": [
    {
     "name": "stdout",
     "output_type": "stream",
     "text": [
      "['return statement']\n"
     ]
    }
   ],
   "source": [
    "def fun():\n",
    "    str = \"return statement\"\n",
    "    return[str]\n",
    "list = fun()\n",
    "print(list)"
   ]
  },
  {
   "cell_type": "markdown",
   "metadata": {},
   "source": [
    "#Task 11.2"
   ]
  },
  {
   "cell_type": "code",
   "execution_count": 4,
   "metadata": {},
   "outputs": [],
   "source": [
    "#Ask 2 numbers from users and store it in num1 & num2\n",
    "#Ask user to press 1 for addition,2 for subtraction,3 for multiplication & 4 for subtraction.\n",
    "#Create 4 separate functions for each operation(i.e, addition,subtraction,multiplication and division)\n",
    "#Based on number given by user,call the particular function and print the output"
   ]
  },
  {
   "cell_type": "code",
   "execution_count": 5,
   "metadata": {},
   "outputs": [
    {
     "name": "stdout",
     "output_type": "stream",
     "text": [
      "Select operation\n",
      "1.Add\n",
      "2.Subtract\n",
      "3.Multiply\n",
      "4.Divide\n",
      "Enter choice (1/2/3/4):1\n",
      "Enter first number:10\n",
      "Enter second number:20\n",
      "10 + 20 = 30\n",
      "Enter choice (1/2/3/4):2\n",
      "Enter first number:10\n",
      "Enter second number:20\n",
      "10 - 20 = -10\n",
      "Enter choice (1/2/3/4):3\n",
      "Enter first number:10\n",
      "Enter second number:20\n",
      "10 * 20 = 200\n",
      "Enter choice (1/2/3/4):4\n",
      "Enter first number:10\n",
      "Enter second number:20\n",
      "10 / 20 = 0.5\n"
     ]
    }
   ],
   "source": [
    "def add(x,y):\n",
    "    return x+y\n",
    "def subtract(x,y):\n",
    "    return x-y\n",
    "def multiply(x,y):\n",
    "    return x*y\n",
    "def divide(x,y):\n",
    "    return x/y\n",
    "print(\"Select operation\")\n",
    "print(\"1.Add\")\n",
    "print(\"2.Subtract\")\n",
    "print(\"3.Multiply\")\n",
    "print(\"4.Divide\")\n",
    "while True:\n",
    "    choice=input(\"Enter choice (1/2/3/4):\")\n",
    "    if choice in ('1','2','3','4'):\n",
    "        num1 = int(input(\"Enter first number:\"))\n",
    "        num2 = int(input(\"Enter second number:\"))\n",
    "        if choice == '1':\n",
    "            print(num1,\"+\",num2,\"=\",add(num1,num2))\n",
    "        elif choice == '2':\n",
    "            print(num1,\"-\",num2,\"=\",subtract(num1,num2))\n",
    "        elif choice == '3':\n",
    "            print(num1,\"*\",num2,\"=\",multiply(num1,num2))\n",
    "        elif choice == '4':\n",
    "            print(num1,\"/\",num2,\"=\",divide(num1,num2))\n",
    "            break\n",
    "        else:\n",
    "            print(\"Invalid input\")"
   ]
  },
  {
   "cell_type": "code",
   "execution_count": null,
   "metadata": {},
   "outputs": [],
   "source": []
  }
 ],
 "metadata": {
  "kernelspec": {
   "display_name": "Python 3",
   "language": "python",
   "name": "python3"
  },
  "language_info": {
   "codemirror_mode": {
    "name": "ipython",
    "version": 3
   },
   "file_extension": ".py",
   "mimetype": "text/x-python",
   "name": "python",
   "nbconvert_exporter": "python",
   "pygments_lexer": "ipython3",
   "version": "3.8.5"
  }
 },
 "nbformat": 4,
 "nbformat_minor": 4
}
