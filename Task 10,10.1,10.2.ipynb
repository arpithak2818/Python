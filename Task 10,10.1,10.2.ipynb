{
 "cells": [
  {
   "cell_type": "markdown",
   "metadata": {},
   "source": [
    "#Task 10"
   ]
  },
  {
   "cell_type": "code",
   "execution_count": 1,
   "metadata": {},
   "outputs": [],
   "source": [
    "#Using while loop print numbers from 10 to 1\n",
    "#Try using for loop to loop over types,tuples,sets and dictionaries"
   ]
  },
  {
   "cell_type": "code",
   "execution_count": 2,
   "metadata": {},
   "outputs": [
    {
     "name": "stdout",
     "output_type": "stream",
     "text": [
      "10\n",
      "9\n",
      "8\n",
      "7\n",
      "6\n",
      "5\n",
      "4\n",
      "3\n",
      "2\n",
      "1\n"
     ]
    }
   ],
   "source": [
    "count = 10\n",
    "while(count>=1):\n",
    "    print(count)\n",
    "    count=count-1"
   ]
  },
  {
   "cell_type": "markdown",
   "metadata": {},
   "source": [
    "Using for loop to loop over tuples,sets and dictionaries"
   ]
  },
  {
   "cell_type": "code",
   "execution_count": 3,
   "metadata": {},
   "outputs": [
    {
     "name": "stdout",
     "output_type": "stream",
     "text": [
      "35\n",
      "73\n",
      "Arpitha\n",
      "Chaksitha\n"
     ]
    }
   ],
   "source": [
    "tup1 = (35,73,\"Arpitha\",\"Chaksitha\")\n",
    "for item in tup1:\n",
    "    print(item)"
   ]
  },
  {
   "cell_type": "code",
   "execution_count": 4,
   "metadata": {},
   "outputs": [
    {
     "name": "stdout",
     "output_type": "stream",
     "text": [
      "5\n",
      "6\n",
      "7\n",
      "8\n",
      "9\n"
     ]
    }
   ],
   "source": [
    "#Using for loop over sets\n",
    "set1={5,6,7,8,9}\n",
    "for item in set1:\n",
    "    print(item)\n"
   ]
  },
  {
   "cell_type": "markdown",
   "metadata": {},
   "source": [
    "#Using for loop for dictionaries"
   ]
  },
  {
   "cell_type": "code",
   "execution_count": 5,
   "metadata": {},
   "outputs": [
    {
     "name": "stdout",
     "output_type": "stream",
     "text": [
      "Telangana\n",
      "Andhrapradesh\n",
      "Karnataka\n"
     ]
    }
   ],
   "source": [
    "stateandcapital = {'Telangana':'Hyberabad','Andhrapradesh':'Amarvathi','Karnataka':'Bangalore'}\n",
    "for state in stateandcapital:\n",
    "    print(state)"
   ]
  },
  {
   "cell_type": "code",
   "execution_count": 6,
   "metadata": {},
   "outputs": [
    {
     "name": "stdout",
     "output_type": "stream",
     "text": [
      "Hyberabad\n",
      "Amarvathi\n",
      "Bangalore\n"
     ]
    }
   ],
   "source": [
    "stateandcapital = {'Telangana':'Hyberabad','Andhrapradesh':'Amarvathi','Karnataka':'Bangalore'}\n",
    "for capital in stateandcapital.values():\n",
    "    print(capital)"
   ]
  },
  {
   "cell_type": "code",
   "execution_count": 7,
   "metadata": {},
   "outputs": [
    {
     "name": "stdout",
     "output_type": "stream",
     "text": [
      "Telangana : Hyberabad\n",
      "Andhrapradesh : Amarvathi\n",
      "Karnataka : Bangalore\n"
     ]
    }
   ],
   "source": [
    "stateandcapital = {'Telangana':'Hyberabad','Andhrapradesh':'Amarvathi','Karnataka':'Bangalore'}\n",
    "for state,capital in stateandcapital.items():\n",
    "    print(state,\":\",capital)"
   ]
  },
  {
   "cell_type": "markdown",
   "metadata": {},
   "source": [
    "#Task 10.1"
   ]
  },
  {
   "cell_type": "code",
   "execution_count": 8,
   "metadata": {},
   "outputs": [],
   "source": [
    "#What is the usage of continue with an example"
   ]
  },
  {
   "cell_type": "code",
   "execution_count": 9,
   "metadata": {},
   "outputs": [
    {
     "name": "stdout",
     "output_type": "stream",
     "text": [
      "1\n",
      "2\n",
      "3\n",
      "4\n",
      "6\n",
      "7\n",
      "8\n",
      "9\n"
     ]
    }
   ],
   "source": [
    "#The continue statement is used to skip the rest of the code inside a loop for the current iteration only.Loop doesnot terminate but continues on with the next iteration.\n",
    "for i in range(1,10):\n",
    "    if i == 5:\n",
    "        continue\n",
    "    else:\n",
    "        print(i)"
   ]
  },
  {
   "cell_type": "markdown",
   "metadata": {},
   "source": [
    "#Task 10.2"
   ]
  },
  {
   "cell_type": "code",
   "execution_count": 11,
   "metadata": {},
   "outputs": [],
   "source": [
    "#What is pass keyword,with example"
   ]
  },
  {
   "cell_type": "code",
   "execution_count": 12,
   "metadata": {},
   "outputs": [],
   "source": [
    "#The pass statement is a null statement.But the difference between the comment and pass is that the comment is ignored it is generally used as a particular that is when user doesnot want to code.Sometimes pass is used when the user doesnot want any code to execute so user simply places pass there as empty code is not allowed in loops,functions,class.So using pass statement user avoids the error."
   ]
  },
  {
   "cell_type": "code",
   "execution_count": 16,
   "metadata": {},
   "outputs": [
    {
     "name": "stdout",
     "output_type": "stream",
     "text": [
      "1\n",
      "Rest of the code\n",
      "2\n",
      "Rest of the code\n",
      "3\n",
      "Rest of the code\n",
      "4\n",
      "Rest of the code\n",
      "5\n",
      "Rest of the code\n",
      "6\n",
      "Rest of the code\n",
      "7\n",
      "Rest of the code\n",
      "8\n",
      "Rest of the code\n",
      "9\n",
      "Rest of the code\n",
      "10\n",
      "Rest of the code\n"
     ]
    }
   ],
   "source": [
    "i=1\n",
    "while i<=10:\n",
    "    if(i==5):\n",
    "        pass\n",
    "    print(i)\n",
    "    i+=1\n",
    "    print(\"Rest of the code\")"
   ]
  },
  {
   "cell_type": "code",
   "execution_count": 15,
   "metadata": {},
   "outputs": [],
   "source": []
  },
  {
   "cell_type": "code",
   "execution_count": null,
   "metadata": {},
   "outputs": [],
   "source": []
  }
 ],
 "metadata": {
  "kernelspec": {
   "display_name": "Python 3",
   "language": "python",
   "name": "python3"
  },
  "language_info": {
   "codemirror_mode": {
    "name": "ipython",
    "version": 3
   },
   "file_extension": ".py",
   "mimetype": "text/x-python",
   "name": "python",
   "nbconvert_exporter": "python",
   "pygments_lexer": "ipython3",
   "version": "3.8.5"
  }
 },
 "nbformat": 4,
 "nbformat_minor": 4
}
