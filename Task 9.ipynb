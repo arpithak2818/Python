{
 "cells": [
  {
   "cell_type": "markdown",
   "metadata": {},
   "source": [
    "#Task 9"
   ]
  },
  {
   "cell_type": "code",
   "execution_count": 1,
   "metadata": {},
   "outputs": [],
   "source": [
    "# Ask 2 numbers from users and store it in num1 and num2\n",
    "# Ask user to press 1 for addition , 2 for subtraction , 3 for multiplication and 4 for division\n",
    "# Based on number given by user do the math operation "
   ]
  },
  {
   "cell_type": "code",
   "execution_count": 2,
   "metadata": {},
   "outputs": [
    {
     "name": "stdout",
     "output_type": "stream",
     "text": [
      "Enter your choice :n3\n",
      "Enter two numbers:\n",
      "10\n",
      "5\n",
      "Result 50\n"
     ]
    }
   ],
   "source": [
    "choice = int(input(\"Enter your choice :n\"))\n",
    "if(choice>=1 and choice<=4):\n",
    "    print(\"Enter two numbers:\")\n",
    "    num1 = int(input())\n",
    "    num2 = int(input())\n",
    "    \n",
    "    if choice == 1:\n",
    "        res = num1 + num2\n",
    "        print(\"Result =\",res)\n",
    "        \n",
    "    elif choice == 2:\n",
    "        res = num1 - num2\n",
    "        print(\"Result =\",res)\n",
    "        \n",
    "    elif choice == 3:\n",
    "        res = num1 * num2\n",
    "        print(\"Result\",res)\n",
    "        \n",
    "    elif choice == 4:\n",
    "        res = num1 / num2\n",
    "        print(\"Result\",res)\n",
    "        \n",
    "    elif choice == 5:\n",
    "        exit()\n",
    "        \n",
    "else:\n",
    "    print(\"Wrong input\")"
   ]
  },
  {
   "cell_type": "code",
   "execution_count": null,
   "metadata": {},
   "outputs": [],
   "source": []
  }
 ],
 "metadata": {
  "kernelspec": {
   "display_name": "Python 3",
   "language": "python",
   "name": "python3"
  },
  "language_info": {
   "codemirror_mode": {
    "name": "ipython",
    "version": 3
   },
   "file_extension": ".py",
   "mimetype": "text/x-python",
   "name": "python",
   "nbconvert_exporter": "python",
   "pygments_lexer": "ipython3",
   "version": "3.8.5"
  }
 },
 "nbformat": 4,
 "nbformat_minor": 4
}
